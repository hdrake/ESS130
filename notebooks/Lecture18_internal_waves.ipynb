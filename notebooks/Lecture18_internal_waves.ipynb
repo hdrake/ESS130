{
 "cells": [
  {
   "cell_type": "code",
   "execution_count": 1,
   "id": "05265ea8-215c-4e3c-9092-6013c78a0853",
   "metadata": {},
   "outputs": [],
   "source": [
    "using Oceananigans"
   ]
  }
 ],
 "metadata": {
  "kernelspec": {
   "display_name": "Julia 1.10.9",
   "language": "julia",
   "name": "julia-1.10"
  },
  "language_info": {
   "file_extension": ".jl",
   "mimetype": "application/julia",
   "name": "julia",
   "version": "1.10.9"
  }
 },
 "nbformat": 4,
 "nbformat_minor": 5
}
