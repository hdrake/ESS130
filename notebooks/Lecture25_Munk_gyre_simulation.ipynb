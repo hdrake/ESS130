{
 "cells": [
  {
   "cell_type": "markdown",
   "id": "05d98fd9-3481-46f7-a1a9-da02a805bf82",
   "metadata": {},
   "source": [
    "# Barotropic gyre"
   ]
  },
  {
   "cell_type": "code",
   "execution_count": null,
   "id": "31c2f32b-9948-432a-ad93-5f8ff1763534",
   "metadata": {},
   "outputs": [
    {
     "name": "stdout",
     "output_type": "stream",
     "text": [
      "surface_wind_stress_parameters = (τ₀ = τ₀, ρ₀ = 1000.0, Lφ = grid.Ly) = (τ₀ = 0.01, ρ₀ = 1000.0, Lφ = 1.2e6)\n",
      "νₕ = 200 = 200\n",
      "model = HydrostaticFreeSurfaceModel(grid = grid, coriolis = coriolis, boundary_conditions = (u = u_bcs,), closure = constant_horizontal_diffusivity) = HydrostaticFreeSurfaceModel{CPU, RectilinearGrid}(time = 0 seconds, iteration = 0)\n",
      "├── grid: 256×256×1 RectilinearGrid{Float64, Bounded, Bounded, Bounded} on CPU with 3×3×1 halo\n",
      "├── timestepper: QuasiAdamsBashforth2TimeStepper\n",
      "├── tracers: ()\n",
      "├── closure: HorizontalScalarDiffusivity{ExplicitTimeDiscretization}(ν=200.0)\n",
      "├── buoyancy: Nothing\n",
      "├── free surface: ImplicitFreeSurface with gravitational acceleration 9.80665 m s⁻²\n",
      "│   └── solver: FFTImplicitFreeSurfaceSolver\n",
      "├── advection scheme: \n",
      "│   └── momentum: Vector Invariant, Dimension-by-dimension reconstruction\n",
      "└── coriolis: BetaPlane{Float64}\n"
     ]
    }
   ],
   "source": [
    "using Oceananigans\n",
    "using Oceananigans.Units \n",
    "using Printf\n",
    "\n",
    "Nx = 256\n",
    "Ny = 256\n",
    "\n",
    "Lx = 1200kilometers # east-west extent [m]\n",
    "Ly = 1200kilometers # north-south extent [m]\n",
    "Lz = 5kilometers    # depth [m]\n",
    "\n",
    "grid = RectilinearGrid(size = (Nx, Ny, 1),\n",
    "                       x = (0, Lx),\n",
    "                       y = (0, Ly),\n",
    "                       z = (-Lz, 0),\n",
    "                       topology = (Bounded, Bounded, Bounded))\n",
    "\n",
    "β = 1.e-11\n",
    "coriolis = BetaPlane(f₀=1e-4, β=β)\n",
    "\n",
    "# Rβ = 1.e-4\n",
    "# τ₀ = Rβ * β^2 * Lx^3 \n",
    "τ₀ = 0.01 # 0.1 N/m^3 is realistic\n",
    "\n",
    "# Forcing by zonal wind stress\n",
    "@show surface_wind_stress_parameters = (τ₀ = τ₀, ρ₀ = 1000., Lφ = grid.Ly)\n",
    "@inline surface_wind_stress(x, y, t, p) = -p.τ₀ / p.ρ₀ * sin(π * y / p.Lφ)\n",
    "surface_wind_stress_bc = FluxBoundaryCondition(surface_wind_stress,\n",
    "                                               parameters = surface_wind_stress_parameters)\n",
    "u_bcs = FieldBoundaryConditions(top = surface_wind_stress_bc)\n",
    "\n",
    "# Friction due to constant horizontal viscosity\n",
    "@show νₕ = 200\n",
    "constant_horizontal_diffusivity = HorizontalScalarDiffusivity(ν = νₕ)\n",
    "\n",
    "@show model = HydrostaticFreeSurfaceModel(grid = grid,\n",
    "                                    coriolis = coriolis,\n",
    "                                    boundary_conditions = (u=u_bcs,),\n",
    "                                    closure = constant_horizontal_diffusivity)\n",
    "\n",
    "simulation = Simulation(model, Δt = 1200, stop_time = 1*365days)\n",
    "output_fields = merge(model.velocities, (η=model.free_surface.η,))\n",
    "output_prefix = \"../data/raw_simulation_output/barotropic_gyre\"\n",
    "\n",
    "mutable struct Progress\n",
    "    interval_start_time :: Float64\n",
    "end\n",
    "\n",
    "function (p::Progress)(sim)\n",
    "    wall_time = (time_ns() - p.interval_start_time) * 1e-9\n",
    "\n",
    "    @info @sprintf(\"Time: %s, iteration: %d, max(u): %.2e m s⁻¹, wall time: %s\",\n",
    "                   prettytime(sim.model.clock.time),\n",
    "                   sim.model.clock.iteration,\n",
    "                   maximum(sim.model.velocities.u),\n",
    "                   prettytime(wall_time))\n",
    "\n",
    "    p.interval_start_time = time_ns()\n",
    "\n",
    "    return nothing\n",
    "end\n",
    "\n",
    "simulation.callbacks[:progress] = Callback(Progress(time_ns()), IterationInterval(5*3*24))\n",
    "\n",
    "\n",
    "simulation.output_writers[:fields] = JLD2Writer(model, output_fields,\n",
    "                                                schedule = TimeInterval(1days),\n",
    "                                                filename = output_prefix,\n",
    "                                                overwrite_existing = true)\n",
    "\n",
    "@show run!(simulation)"
   ]
  },
  {
   "cell_type": "code",
   "execution_count": null,
   "id": "e29272f6-51cb-4277-9a9d-b0ab7440e59f",
   "metadata": {},
   "outputs": [],
   "source": [
    "t = 365\n",
    "\n",
    "using CairoMakie\n",
    "\n",
    "η = FieldTimeSeries(string(output_prefix,\".jld2\"), \"η\")\n",
    "\n",
    "x, y, z = nodes(η)\n",
    "heatmap(x[:], y[:], interior(η)[:,:,1,t])"
   ]
  },
  {
   "cell_type": "code",
   "execution_count": null,
   "id": "df94add0-1af9-4713-8ed1-389016186700",
   "metadata": {},
   "outputs": [],
   "source": []
  },
  {
   "cell_type": "code",
   "execution_count": null,
   "id": "a948b74d-563d-43c8-8ff5-83ec0b80ea0a",
   "metadata": {},
   "outputs": [],
   "source": []
  }
 ],
 "metadata": {
  "kernelspec": {
   "display_name": "Julia 1.10.9",
   "language": "julia",
   "name": "julia-1.10"
  },
  "language_info": {
   "file_extension": ".jl",
   "mimetype": "application/julia",
   "name": "julia",
   "version": "1.10.9"
  }
 },
 "nbformat": 4,
 "nbformat_minor": 5
}
