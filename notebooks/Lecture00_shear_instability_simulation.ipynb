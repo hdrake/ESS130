{
 "cells": [
  {
   "cell_type": "code",
   "execution_count": 1,
   "id": "6e7884c3-8468-466d-bd8e-ed332c5e791d",
   "metadata": {},
   "outputs": [],
   "source": [
    "using Oceananigans\n",
    "using Printf"
   ]
  },
  {
   "cell_type": "code",
   "execution_count": 2,
   "id": "76eb90c2-fc39-429c-bcd5-b3443dcf8afb",
   "metadata": {},
   "outputs": [
    {
     "data": {
      "text/plain": [
       "128×1×128 RectilinearGrid{Float64, Periodic, Flat, Bounded} on CPU with 3×0×3 halo\n",
       "├── Periodic x ∈ [-5.0, 5.0) regularly spaced with Δx=0.078125\n",
       "├── Flat y                   \n",
       "└── Bounded  z ∈ [-5.0, 5.0] regularly spaced with Δz=0.078125"
      ]
     },
     "execution_count": 2,
     "metadata": {},
     "output_type": "execute_result"
    }
   ],
   "source": [
    "grid = RectilinearGrid(size=(128, 128), x=(-5, 5), z=(-5, 5),\n",
    "                       topology=(Periodic, Flat, Bounded))"
   ]
  },
  {
   "cell_type": "code",
   "execution_count": 3,
   "id": "56f71685-ac0f-4853-8a95-e77c15578ab6",
   "metadata": {},
   "outputs": [],
   "source": [
    "shear_flow(x, z, t) = tanh(z)\n",
    "\n",
    "stratification(x, z, t, p) = p.h * p.Ri * tanh(z / p.h)\n",
    "\n",
    "U = BackgroundField(shear_flow)\n",
    "\n",
    "B = BackgroundField(stratification, parameters=(Ri=0.1, h=1/4));"
   ]
  },
  {
   "cell_type": "code",
   "execution_count": 4,
   "id": "7b385ab3-7825-4fdc-bef9-feb8f1e2c6bc",
   "metadata": {},
   "outputs": [
    {
     "data": {
      "text/plain": [
       "Lines{Tuple{Vector{Point{2, Float64}}}}"
      ]
     },
     "execution_count": 4,
     "metadata": {},
     "output_type": "execute_result"
    }
   ],
   "source": [
    "using GLMakie\n",
    "\n",
    "zF = znodes(grid, Face())\n",
    "zC = znodes(grid, Center())\n",
    "\n",
    "Ri, h = B.parameters\n",
    "\n",
    "fig = Figure(size = (850, 450))\n",
    "\n",
    "ax = Axis(fig[1, 1], xlabel = \"U(z)\", ylabel = \"z\", limits=((nothing, nothing), (-5, 5)))\n",
    "lines!(ax, shear_flow.(0, zC, 0), zC; linewidth = 3)\n",
    "\n",
    "ax = Axis(fig[1, 2], xlabel = \"B(z)\", limits=((nothing, nothing), (-5, 5)))\n",
    "lines!(ax, [stratification(0, z, 0, (Ri=Ri, h=h)) for z in zC], zC; linewidth = 3, color = :red)\n",
    "\n",
    "ax = Axis(fig[1, 3], xlabel = \"Ri(z)\", limits=((nothing, nothing), (-5, 5)))\n",
    "lines!(ax, [Ri * sech(z / h)^2 / sech(z)^2 for z in zF], zF; linewidth = 3, color = :black) # Ri(z)= ∂_z B / (∂_z U)²; derivatives computed by hand\n",
    "\n",
    "#fig"
   ]
  },
  {
   "cell_type": "code",
   "execution_count": 5,
   "id": "bda8f8f4-eab1-431f-8325-1df43bbc5116",
   "metadata": {},
   "outputs": [
    {
     "data": {
      "text/plain": [
       "NonhydrostaticModel{CPU, RectilinearGrid}(time = 0 seconds, iteration = 0)\n",
       "├── grid: 128×1×128 RectilinearGrid{Float64, Periodic, Flat, Bounded} on CPU with 3×0×3 halo\n",
       "├── timestepper: RungeKutta3TimeStepper\n",
       "├── advection scheme: UpwindBiased(order=3)\n",
       "├── tracers: b\n",
       "├── closure: ScalarDiffusivity{ExplicitTimeDiscretization}(ν=2.0e-5, κ=(b=2.0e-5,))\n",
       "├── buoyancy: BuoyancyTracer with ĝ = NegativeZDirection()\n",
       "└── coriolis: Nothing"
      ]
     },
     "execution_count": 5,
     "metadata": {},
     "output_type": "execute_result"
    }
   ],
   "source": [
    "model = NonhydrostaticModel(timestepper = :RungeKutta3,\n",
    "                              advection = UpwindBiased(),\n",
    "                                   grid = grid,\n",
    "                               coriolis = nothing,\n",
    "                      background_fields = (u=U, b=B),\n",
    "                                closure = ScalarDiffusivity(ν=0.2e-4, κ=0.2e-4),\n",
    "                               buoyancy = BuoyancyTracer(),\n",
    "                                tracers = :b)"
   ]
  },
  {
   "cell_type": "code",
   "execution_count": 6,
   "id": "96eb4536-5fb0-4f8c-ad5e-a1ed50b50667",
   "metadata": {},
   "outputs": [
    {
     "data": {
      "text/plain": [
       "Simulation of NonhydrostaticModel{CPU, RectilinearGrid}(time = 0 seconds, iteration = 0)\n",
       "├── Next time step: 100 ms\n",
       "├── Elapsed wall time: 0 seconds\n",
       "├── Wall time per iteration: NaN days\n",
       "├── Stop time: Inf days\n",
       "├── Stop iteration: 2000.0\n",
       "├── Wall time limit: Inf\n",
       "├── Minimum relative step: 0.0\n",
       "├── Callbacks: OrderedDict with 4 entries:\n",
       "│   ├── stop_time_exceeded => Callback of stop_time_exceeded on IterationInterval(1)\n",
       "│   ├── stop_iteration_exceeded => Callback of stop_iteration_exceeded on IterationInterval(1)\n",
       "│   ├── wall_time_limit_exceeded => Callback of wall_time_limit_exceeded on IterationInterval(1)\n",
       "│   └── nan_checker => Callback of NaNChecker for u on IterationInterval(100)\n",
       "├── Output writers: OrderedDict with no entries\n",
       "└── Diagnostics: OrderedDict with no entries"
      ]
     },
     "execution_count": 6,
     "metadata": {},
     "output_type": "execute_result"
    }
   ],
   "source": [
    "Δt = 0.1 \n",
    "simulation = Simulation(model, Δt=Δt, stop_iteration=2000, verbose=false)"
   ]
  },
  {
   "cell_type": "code",
   "execution_count": 7,
   "id": "f96a0570-4cc1-4d71-a2d9-29b61a4102a6",
   "metadata": {},
   "outputs": [],
   "source": [
    "using Random, Statistics\n",
    "\n",
    "u, v, w = model.velocities\n",
    "b = model.tracers.b\n",
    "xb, yb, zb = nodes(b)\n",
    "total_b = Field(b + model.background_fields.tracers.b)\n",
    "\n",
    "mean_perturbation_kinetic_energy = Field(Average(1/2 * (u^2 + w^2)))\n",
    "\n",
    "noise(x, z) = 1.e-3*randn()\n",
    "set!(model, u=noise, w=noise, b=noise)"
   ]
  },
  {
   "cell_type": "code",
   "execution_count": 8,
   "id": "bce14bf2-19e0-4851-8c8f-f661dcbedc11",
   "metadata": {},
   "outputs": [
    {
     "data": {
      "text/plain": [
       "JLD2Writer scheduled on TimeInterval(1 second):\n",
       "├── filepath: ../data/raw_simulation_output/stratified_shear/example.jld2\n",
       "├── 2 outputs: (b, B)\n",
       "├── array type: Array{Float32}\n",
       "├── including: [:grid, :coriolis, :buoyancy, :closure]\n",
       "├── file_splitting: NoFileSplitting\n",
       "└── file size: 30.7 KiB"
      ]
     },
     "execution_count": 8,
     "metadata": {},
     "output_type": "execute_result"
    }
   ],
   "source": [
    "simulation.output_writers[:buoyancy] =\n",
    "    JLD2Writer(model, (b=b, B=total_b),\n",
    "                 schedule = TimeInterval(1.0),\n",
    "                 filename = \"../data/raw_simulation_output/stratified_shear/example.jld2\",\n",
    "                 overwrite_existing = true)"
   ]
  },
  {
   "cell_type": "code",
   "execution_count": 9,
   "id": "84ec0232-24b0-4a63-a471-577bc5ce9d1a",
   "metadata": {},
   "outputs": [
    {
     "name": "stderr",
     "output_type": "stream",
     "text": [
      "\u001b[36m\u001b[1m[ \u001b[22m\u001b[39m\u001b[36m\u001b[1mInfo: \u001b[22m\u001b[39m*** Running a simulation of Kelvin-Helmholtz instability...\n"
     ]
    }
   ],
   "source": [
    "@info \"*** Running a simulation of Kelvin-Helmholtz instability...\"\n",
    "run!(simulation)"
   ]
  },
  {
   "cell_type": "code",
   "execution_count": 10,
   "id": "b797b32a-0ee8-4230-90a6-5e4fd2ae5508",
   "metadata": {},
   "outputs": [
    {
     "name": "stderr",
     "output_type": "stream",
     "text": [
      "\u001b[36m\u001b[1m[ \u001b[22m\u001b[39m\u001b[36m\u001b[1mInfo: \u001b[22m\u001b[39mMaking a neat movie of stratified shear flow...\n",
      "\u001b[36m\u001b[1m[ \u001b[22m\u001b[39m\u001b[36m\u001b[1mInfo: \u001b[22m\u001b[39mPlotting frame 1 of 187...\n",
      "\u001b[36m\u001b[1m[ \u001b[22m\u001b[39m\u001b[36m\u001b[1mInfo: \u001b[22m\u001b[39mPlotting frame 2 of 187...\n",
      "\u001b[36m\u001b[1m[ \u001b[22m\u001b[39m\u001b[36m\u001b[1mInfo: \u001b[22m\u001b[39mPlotting frame 3 of 187...\n",
      "\u001b[36m\u001b[1m[ \u001b[22m\u001b[39m\u001b[36m\u001b[1mInfo: \u001b[22m\u001b[39mPlotting frame 4 of 187...\n",
      "\u001b[36m\u001b[1m[ \u001b[22m\u001b[39m\u001b[36m\u001b[1mInfo: \u001b[22m\u001b[39mPlotting frame 5 of 187...\n",
      "\u001b[36m\u001b[1m[ \u001b[22m\u001b[39m\u001b[36m\u001b[1mInfo: \u001b[22m\u001b[39mPlotting frame 6 of 187...\n",
      "\u001b[36m\u001b[1m[ \u001b[22m\u001b[39m\u001b[36m\u001b[1mInfo: \u001b[22m\u001b[39mPlotting frame 7 of 187...\n",
      "\u001b[36m\u001b[1m[ \u001b[22m\u001b[39m\u001b[36m\u001b[1mInfo: \u001b[22m\u001b[39mPlotting frame 8 of 187...\n",
      "\u001b[36m\u001b[1m[ \u001b[22m\u001b[39m\u001b[36m\u001b[1mInfo: \u001b[22m\u001b[39mPlotting frame 9 of 187...\n",
      "\u001b[36m\u001b[1m[ \u001b[22m\u001b[39m\u001b[36m\u001b[1mInfo: \u001b[22m\u001b[39mPlotting frame 10 of 187...\n",
      "\u001b[36m\u001b[1m[ \u001b[22m\u001b[39m\u001b[36m\u001b[1mInfo: \u001b[22m\u001b[39mPlotting frame 11 of 187...\n",
      "\u001b[36m\u001b[1m[ \u001b[22m\u001b[39m\u001b[36m\u001b[1mInfo: \u001b[22m\u001b[39mPlotting frame 12 of 187...\n",
      "\u001b[36m\u001b[1m[ \u001b[22m\u001b[39m\u001b[36m\u001b[1mInfo: \u001b[22m\u001b[39mPlotting frame 13 of 187...\n",
      "\u001b[36m\u001b[1m[ \u001b[22m\u001b[39m\u001b[36m\u001b[1mInfo: \u001b[22m\u001b[39mPlotting frame 14 of 187...\n",
      "\u001b[36m\u001b[1m[ \u001b[22m\u001b[39m\u001b[36m\u001b[1mInfo: \u001b[22m\u001b[39mPlotting frame 15 of 187...\n",
      "\u001b[36m\u001b[1m[ \u001b[22m\u001b[39m\u001b[36m\u001b[1mInfo: \u001b[22m\u001b[39mPlotting frame 16 of 187...\n",
      "\u001b[36m\u001b[1m[ \u001b[22m\u001b[39m\u001b[36m\u001b[1mInfo: \u001b[22m\u001b[39mPlotting frame 17 of 187...\n",
      "\u001b[36m\u001b[1m[ \u001b[22m\u001b[39m\u001b[36m\u001b[1mInfo: \u001b[22m\u001b[39mPlotting frame 18 of 187...\n",
      "\u001b[36m\u001b[1m[ \u001b[22m\u001b[39m\u001b[36m\u001b[1mInfo: \u001b[22m\u001b[39mPlotting frame 19 of 187...\n",
      "\u001b[36m\u001b[1m[ \u001b[22m\u001b[39m\u001b[36m\u001b[1mInfo: \u001b[22m\u001b[39mPlotting frame 20 of 187...\n",
      "\u001b[36m\u001b[1m[ \u001b[22m\u001b[39m\u001b[36m\u001b[1mInfo: \u001b[22m\u001b[39mPlotting frame 21 of 187...\n",
      "\u001b[36m\u001b[1m[ \u001b[22m\u001b[39m\u001b[36m\u001b[1mInfo: \u001b[22m\u001b[39mPlotting frame 22 of 187...\n",
      "\u001b[36m\u001b[1m[ \u001b[22m\u001b[39m\u001b[36m\u001b[1mInfo: \u001b[22m\u001b[39mPlotting frame 23 of 187...\n",
      "\u001b[36m\u001b[1m[ \u001b[22m\u001b[39m\u001b[36m\u001b[1mInfo: \u001b[22m\u001b[39mPlotting frame 24 of 187...\n",
      "\u001b[36m\u001b[1m[ \u001b[22m\u001b[39m\u001b[36m\u001b[1mInfo: \u001b[22m\u001b[39mPlotting frame 25 of 187...\n",
      "\u001b[36m\u001b[1m[ \u001b[22m\u001b[39m\u001b[36m\u001b[1mInfo: \u001b[22m\u001b[39mPlotting frame 26 of 187...\n",
      "\u001b[36m\u001b[1m[ \u001b[22m\u001b[39m\u001b[36m\u001b[1mInfo: \u001b[22m\u001b[39mPlotting frame 27 of 187...\n",
      "\u001b[36m\u001b[1m[ \u001b[22m\u001b[39m\u001b[36m\u001b[1mInfo: \u001b[22m\u001b[39mPlotting frame 28 of 187...\n",
      "\u001b[36m\u001b[1m[ \u001b[22m\u001b[39m\u001b[36m\u001b[1mInfo: \u001b[22m\u001b[39mPlotting frame 29 of 187...\n",
      "\u001b[36m\u001b[1m[ \u001b[22m\u001b[39m\u001b[36m\u001b[1mInfo: \u001b[22m\u001b[39mPlotting frame 30 of 187...\n",
      "\u001b[36m\u001b[1m[ \u001b[22m\u001b[39m\u001b[36m\u001b[1mInfo: \u001b[22m\u001b[39mPlotting frame 31 of 187...\n",
      "\u001b[36m\u001b[1m[ \u001b[22m\u001b[39m\u001b[36m\u001b[1mInfo: \u001b[22m\u001b[39mPlotting frame 32 of 187...\n",
      "\u001b[36m\u001b[1m[ \u001b[22m\u001b[39m\u001b[36m\u001b[1mInfo: \u001b[22m\u001b[39mPlotting frame 33 of 187...\n",
      "\u001b[36m\u001b[1m[ \u001b[22m\u001b[39m\u001b[36m\u001b[1mInfo: \u001b[22m\u001b[39mPlotting frame 34 of 187...\n",
      "\u001b[36m\u001b[1m[ \u001b[22m\u001b[39m\u001b[36m\u001b[1mInfo: \u001b[22m\u001b[39mPlotting frame 35 of 187...\n",
      "\u001b[36m\u001b[1m[ \u001b[22m\u001b[39m\u001b[36m\u001b[1mInfo: \u001b[22m\u001b[39mPlotting frame 36 of 187...\n",
      "\u001b[36m\u001b[1m[ \u001b[22m\u001b[39m\u001b[36m\u001b[1mInfo: \u001b[22m\u001b[39mPlotting frame 37 of 187...\n",
      "\u001b[36m\u001b[1m[ \u001b[22m\u001b[39m\u001b[36m\u001b[1mInfo: \u001b[22m\u001b[39mPlotting frame 38 of 187...\n",
      "\u001b[36m\u001b[1m[ \u001b[22m\u001b[39m\u001b[36m\u001b[1mInfo: \u001b[22m\u001b[39mPlotting frame 39 of 187...\n",
      "\u001b[36m\u001b[1m[ \u001b[22m\u001b[39m\u001b[36m\u001b[1mInfo: \u001b[22m\u001b[39mPlotting frame 40 of 187...\n",
      "\u001b[36m\u001b[1m[ \u001b[22m\u001b[39m\u001b[36m\u001b[1mInfo: \u001b[22m\u001b[39mPlotting frame 41 of 187...\n",
      "\u001b[36m\u001b[1m[ \u001b[22m\u001b[39m\u001b[36m\u001b[1mInfo: \u001b[22m\u001b[39mPlotting frame 42 of 187...\n",
      "\u001b[36m\u001b[1m[ \u001b[22m\u001b[39m\u001b[36m\u001b[1mInfo: \u001b[22m\u001b[39mPlotting frame 43 of 187...\n",
      "\u001b[36m\u001b[1m[ \u001b[22m\u001b[39m\u001b[36m\u001b[1mInfo: \u001b[22m\u001b[39mPlotting frame 44 of 187...\n",
      "\u001b[36m\u001b[1m[ \u001b[22m\u001b[39m\u001b[36m\u001b[1mInfo: \u001b[22m\u001b[39mPlotting frame 45 of 187...\n",
      "\u001b[36m\u001b[1m[ \u001b[22m\u001b[39m\u001b[36m\u001b[1mInfo: \u001b[22m\u001b[39mPlotting frame 46 of 187...\n",
      "\u001b[36m\u001b[1m[ \u001b[22m\u001b[39m\u001b[36m\u001b[1mInfo: \u001b[22m\u001b[39mPlotting frame 47 of 187...\n",
      "\u001b[36m\u001b[1m[ \u001b[22m\u001b[39m\u001b[36m\u001b[1mInfo: \u001b[22m\u001b[39mPlotting frame 48 of 187...\n",
      "\u001b[36m\u001b[1m[ \u001b[22m\u001b[39m\u001b[36m\u001b[1mInfo: \u001b[22m\u001b[39mPlotting frame 49 of 187...\n",
      "\u001b[36m\u001b[1m[ \u001b[22m\u001b[39m\u001b[36m\u001b[1mInfo: \u001b[22m\u001b[39mPlotting frame 50 of 187...\n",
      "\u001b[36m\u001b[1m[ \u001b[22m\u001b[39m\u001b[36m\u001b[1mInfo: \u001b[22m\u001b[39mPlotting frame 51 of 187...\n",
      "\u001b[36m\u001b[1m[ \u001b[22m\u001b[39m\u001b[36m\u001b[1mInfo: \u001b[22m\u001b[39mPlotting frame 52 of 187...\n",
      "\u001b[36m\u001b[1m[ \u001b[22m\u001b[39m\u001b[36m\u001b[1mInfo: \u001b[22m\u001b[39mPlotting frame 53 of 187...\n",
      "\u001b[36m\u001b[1m[ \u001b[22m\u001b[39m\u001b[36m\u001b[1mInfo: \u001b[22m\u001b[39mPlotting frame 54 of 187...\n",
      "\u001b[36m\u001b[1m[ \u001b[22m\u001b[39m\u001b[36m\u001b[1mInfo: \u001b[22m\u001b[39mPlotting frame 55 of 187...\n",
      "\u001b[36m\u001b[1m[ \u001b[22m\u001b[39m\u001b[36m\u001b[1mInfo: \u001b[22m\u001b[39mPlotting frame 56 of 187...\n",
      "\u001b[36m\u001b[1m[ \u001b[22m\u001b[39m\u001b[36m\u001b[1mInfo: \u001b[22m\u001b[39mPlotting frame 57 of 187...\n",
      "\u001b[36m\u001b[1m[ \u001b[22m\u001b[39m\u001b[36m\u001b[1mInfo: \u001b[22m\u001b[39mPlotting frame 58 of 187...\n",
      "\u001b[36m\u001b[1m[ \u001b[22m\u001b[39m\u001b[36m\u001b[1mInfo: \u001b[22m\u001b[39mPlotting frame 59 of 187...\n",
      "\u001b[36m\u001b[1m[ \u001b[22m\u001b[39m\u001b[36m\u001b[1mInfo: \u001b[22m\u001b[39mPlotting frame 60 of 187...\n",
      "\u001b[36m\u001b[1m[ \u001b[22m\u001b[39m\u001b[36m\u001b[1mInfo: \u001b[22m\u001b[39mPlotting frame 61 of 187...\n",
      "\u001b[36m\u001b[1m[ \u001b[22m\u001b[39m\u001b[36m\u001b[1mInfo: \u001b[22m\u001b[39mPlotting frame 62 of 187...\n",
      "\u001b[36m\u001b[1m[ \u001b[22m\u001b[39m\u001b[36m\u001b[1mInfo: \u001b[22m\u001b[39mPlotting frame 63 of 187...\n",
      "\u001b[36m\u001b[1m[ \u001b[22m\u001b[39m\u001b[36m\u001b[1mInfo: \u001b[22m\u001b[39mPlotting frame 64 of 187...\n",
      "\u001b[36m\u001b[1m[ \u001b[22m\u001b[39m\u001b[36m\u001b[1mInfo: \u001b[22m\u001b[39mPlotting frame 65 of 187...\n",
      "\u001b[36m\u001b[1m[ \u001b[22m\u001b[39m\u001b[36m\u001b[1mInfo: \u001b[22m\u001b[39mPlotting frame 66 of 187...\n",
      "\u001b[36m\u001b[1m[ \u001b[22m\u001b[39m\u001b[36m\u001b[1mInfo: \u001b[22m\u001b[39mPlotting frame 67 of 187...\n",
      "\u001b[36m\u001b[1m[ \u001b[22m\u001b[39m\u001b[36m\u001b[1mInfo: \u001b[22m\u001b[39mPlotting frame 68 of 187...\n",
      "\u001b[36m\u001b[1m[ \u001b[22m\u001b[39m\u001b[36m\u001b[1mInfo: \u001b[22m\u001b[39mPlotting frame 69 of 187...\n",
      "\u001b[36m\u001b[1m[ \u001b[22m\u001b[39m\u001b[36m\u001b[1mInfo: \u001b[22m\u001b[39mPlotting frame 70 of 187...\n",
      "\u001b[36m\u001b[1m[ \u001b[22m\u001b[39m\u001b[36m\u001b[1mInfo: \u001b[22m\u001b[39mPlotting frame 71 of 187...\n",
      "\u001b[36m\u001b[1m[ \u001b[22m\u001b[39m\u001b[36m\u001b[1mInfo: \u001b[22m\u001b[39mPlotting frame 72 of 187...\n",
      "\u001b[36m\u001b[1m[ \u001b[22m\u001b[39m\u001b[36m\u001b[1mInfo: \u001b[22m\u001b[39mPlotting frame 73 of 187...\n",
      "\u001b[36m\u001b[1m[ \u001b[22m\u001b[39m\u001b[36m\u001b[1mInfo: \u001b[22m\u001b[39mPlotting frame 74 of 187...\n",
      "\u001b[36m\u001b[1m[ \u001b[22m\u001b[39m\u001b[36m\u001b[1mInfo: \u001b[22m\u001b[39mPlotting frame 75 of 187...\n",
      "\u001b[36m\u001b[1m[ \u001b[22m\u001b[39m\u001b[36m\u001b[1mInfo: \u001b[22m\u001b[39mPlotting frame 76 of 187...\n",
      "\u001b[36m\u001b[1m[ \u001b[22m\u001b[39m\u001b[36m\u001b[1mInfo: \u001b[22m\u001b[39mPlotting frame 77 of 187...\n",
      "\u001b[36m\u001b[1m[ \u001b[22m\u001b[39m\u001b[36m\u001b[1mInfo: \u001b[22m\u001b[39mPlotting frame 78 of 187...\n",
      "\u001b[36m\u001b[1m[ \u001b[22m\u001b[39m\u001b[36m\u001b[1mInfo: \u001b[22m\u001b[39mPlotting frame 79 of 187...\n",
      "\u001b[36m\u001b[1m[ \u001b[22m\u001b[39m\u001b[36m\u001b[1mInfo: \u001b[22m\u001b[39mPlotting frame 80 of 187...\n",
      "\u001b[36m\u001b[1m[ \u001b[22m\u001b[39m\u001b[36m\u001b[1mInfo: \u001b[22m\u001b[39mPlotting frame 81 of 187...\n",
      "\u001b[36m\u001b[1m[ \u001b[22m\u001b[39m\u001b[36m\u001b[1mInfo: \u001b[22m\u001b[39mPlotting frame 82 of 187...\n",
      "\u001b[36m\u001b[1m[ \u001b[22m\u001b[39m\u001b[36m\u001b[1mInfo: \u001b[22m\u001b[39mPlotting frame 83 of 187...\n",
      "\u001b[36m\u001b[1m[ \u001b[22m\u001b[39m\u001b[36m\u001b[1mInfo: \u001b[22m\u001b[39mPlotting frame 84 of 187...\n",
      "\u001b[36m\u001b[1m[ \u001b[22m\u001b[39m\u001b[36m\u001b[1mInfo: \u001b[22m\u001b[39mPlotting frame 85 of 187...\n",
      "\u001b[36m\u001b[1m[ \u001b[22m\u001b[39m\u001b[36m\u001b[1mInfo: \u001b[22m\u001b[39mPlotting frame 86 of 187...\n",
      "\u001b[36m\u001b[1m[ \u001b[22m\u001b[39m\u001b[36m\u001b[1mInfo: \u001b[22m\u001b[39mPlotting frame 87 of 187...\n",
      "\u001b[36m\u001b[1m[ \u001b[22m\u001b[39m\u001b[36m\u001b[1mInfo: \u001b[22m\u001b[39mPlotting frame 88 of 187...\n",
      "\u001b[36m\u001b[1m[ \u001b[22m\u001b[39m\u001b[36m\u001b[1mInfo: \u001b[22m\u001b[39mPlotting frame 89 of 187...\n",
      "\u001b[36m\u001b[1m[ \u001b[22m\u001b[39m\u001b[36m\u001b[1mInfo: \u001b[22m\u001b[39mPlotting frame 90 of 187...\n",
      "\u001b[36m\u001b[1m[ \u001b[22m\u001b[39m\u001b[36m\u001b[1mInfo: \u001b[22m\u001b[39mPlotting frame 91 of 187...\n",
      "\u001b[36m\u001b[1m[ \u001b[22m\u001b[39m\u001b[36m\u001b[1mInfo: \u001b[22m\u001b[39mPlotting frame 92 of 187...\n",
      "\u001b[36m\u001b[1m[ \u001b[22m\u001b[39m\u001b[36m\u001b[1mInfo: \u001b[22m\u001b[39mPlotting frame 93 of 187...\n",
      "\u001b[36m\u001b[1m[ \u001b[22m\u001b[39m\u001b[36m\u001b[1mInfo: \u001b[22m\u001b[39mPlotting frame 94 of 187...\n",
      "\u001b[36m\u001b[1m[ \u001b[22m\u001b[39m\u001b[36m\u001b[1mInfo: \u001b[22m\u001b[39mPlotting frame 95 of 187...\n",
      "\u001b[36m\u001b[1m[ \u001b[22m\u001b[39m\u001b[36m\u001b[1mInfo: \u001b[22m\u001b[39mPlotting frame 96 of 187...\n",
      "\u001b[36m\u001b[1m[ \u001b[22m\u001b[39m\u001b[36m\u001b[1mInfo: \u001b[22m\u001b[39mPlotting frame 97 of 187...\n",
      "\u001b[36m\u001b[1m[ \u001b[22m\u001b[39m\u001b[36m\u001b[1mInfo: \u001b[22m\u001b[39mPlotting frame 98 of 187...\n",
      "\u001b[36m\u001b[1m[ \u001b[22m\u001b[39m\u001b[36m\u001b[1mInfo: \u001b[22m\u001b[39mPlotting frame 99 of 187...\n",
      "\u001b[36m\u001b[1m[ \u001b[22m\u001b[39m\u001b[36m\u001b[1mInfo: \u001b[22m\u001b[39mPlotting frame 100 of 187...\n",
      "\u001b[36m\u001b[1m[ \u001b[22m\u001b[39m\u001b[36m\u001b[1mInfo: \u001b[22m\u001b[39mPlotting frame 101 of 187...\n",
      "\u001b[36m\u001b[1m[ \u001b[22m\u001b[39m\u001b[36m\u001b[1mInfo: \u001b[22m\u001b[39mPlotting frame 102 of 187...\n",
      "\u001b[36m\u001b[1m[ \u001b[22m\u001b[39m\u001b[36m\u001b[1mInfo: \u001b[22m\u001b[39mPlotting frame 103 of 187...\n",
      "\u001b[36m\u001b[1m[ \u001b[22m\u001b[39m\u001b[36m\u001b[1mInfo: \u001b[22m\u001b[39mPlotting frame 104 of 187...\n",
      "\u001b[36m\u001b[1m[ \u001b[22m\u001b[39m\u001b[36m\u001b[1mInfo: \u001b[22m\u001b[39mPlotting frame 105 of 187...\n",
      "\u001b[36m\u001b[1m[ \u001b[22m\u001b[39m\u001b[36m\u001b[1mInfo: \u001b[22m\u001b[39mPlotting frame 106 of 187...\n",
      "\u001b[36m\u001b[1m[ \u001b[22m\u001b[39m\u001b[36m\u001b[1mInfo: \u001b[22m\u001b[39mPlotting frame 107 of 187...\n",
      "\u001b[36m\u001b[1m[ \u001b[22m\u001b[39m\u001b[36m\u001b[1mInfo: \u001b[22m\u001b[39mPlotting frame 108 of 187...\n",
      "\u001b[36m\u001b[1m[ \u001b[22m\u001b[39m\u001b[36m\u001b[1mInfo: \u001b[22m\u001b[39mPlotting frame 109 of 187...\n",
      "\u001b[36m\u001b[1m[ \u001b[22m\u001b[39m\u001b[36m\u001b[1mInfo: \u001b[22m\u001b[39mPlotting frame 110 of 187...\n",
      "\u001b[36m\u001b[1m[ \u001b[22m\u001b[39m\u001b[36m\u001b[1mInfo: \u001b[22m\u001b[39mPlotting frame 111 of 187...\n",
      "\u001b[36m\u001b[1m[ \u001b[22m\u001b[39m\u001b[36m\u001b[1mInfo: \u001b[22m\u001b[39mPlotting frame 112 of 187...\n",
      "\u001b[36m\u001b[1m[ \u001b[22m\u001b[39m\u001b[36m\u001b[1mInfo: \u001b[22m\u001b[39mPlotting frame 113 of 187...\n",
      "\u001b[36m\u001b[1m[ \u001b[22m\u001b[39m\u001b[36m\u001b[1mInfo: \u001b[22m\u001b[39mPlotting frame 114 of 187...\n",
      "\u001b[36m\u001b[1m[ \u001b[22m\u001b[39m\u001b[36m\u001b[1mInfo: \u001b[22m\u001b[39mPlotting frame 115 of 187...\n",
      "\u001b[36m\u001b[1m[ \u001b[22m\u001b[39m\u001b[36m\u001b[1mInfo: \u001b[22m\u001b[39mPlotting frame 116 of 187...\n",
      "\u001b[36m\u001b[1m[ \u001b[22m\u001b[39m\u001b[36m\u001b[1mInfo: \u001b[22m\u001b[39mPlotting frame 117 of 187...\n",
      "\u001b[36m\u001b[1m[ \u001b[22m\u001b[39m\u001b[36m\u001b[1mInfo: \u001b[22m\u001b[39mPlotting frame 118 of 187...\n",
      "\u001b[36m\u001b[1m[ \u001b[22m\u001b[39m\u001b[36m\u001b[1mInfo: \u001b[22m\u001b[39mPlotting frame 119 of 187...\n",
      "\u001b[36m\u001b[1m[ \u001b[22m\u001b[39m\u001b[36m\u001b[1mInfo: \u001b[22m\u001b[39mPlotting frame 120 of 187...\n",
      "\u001b[36m\u001b[1m[ \u001b[22m\u001b[39m\u001b[36m\u001b[1mInfo: \u001b[22m\u001b[39mPlotting frame 121 of 187...\n",
      "\u001b[36m\u001b[1m[ \u001b[22m\u001b[39m\u001b[36m\u001b[1mInfo: \u001b[22m\u001b[39mPlotting frame 122 of 187...\n",
      "\u001b[36m\u001b[1m[ \u001b[22m\u001b[39m\u001b[36m\u001b[1mInfo: \u001b[22m\u001b[39mPlotting frame 123 of 187...\n",
      "\u001b[36m\u001b[1m[ \u001b[22m\u001b[39m\u001b[36m\u001b[1mInfo: \u001b[22m\u001b[39mPlotting frame 124 of 187...\n",
      "\u001b[36m\u001b[1m[ \u001b[22m\u001b[39m\u001b[36m\u001b[1mInfo: \u001b[22m\u001b[39mPlotting frame 125 of 187...\n",
      "\u001b[36m\u001b[1m[ \u001b[22m\u001b[39m\u001b[36m\u001b[1mInfo: \u001b[22m\u001b[39mPlotting frame 126 of 187...\n",
      "\u001b[36m\u001b[1m[ \u001b[22m\u001b[39m\u001b[36m\u001b[1mInfo: \u001b[22m\u001b[39mPlotting frame 127 of 187...\n",
      "\u001b[36m\u001b[1m[ \u001b[22m\u001b[39m\u001b[36m\u001b[1mInfo: \u001b[22m\u001b[39mPlotting frame 128 of 187...\n",
      "\u001b[36m\u001b[1m[ \u001b[22m\u001b[39m\u001b[36m\u001b[1mInfo: \u001b[22m\u001b[39mPlotting frame 129 of 187...\n",
      "\u001b[36m\u001b[1m[ \u001b[22m\u001b[39m\u001b[36m\u001b[1mInfo: \u001b[22m\u001b[39mPlotting frame 130 of 187...\n",
      "\u001b[36m\u001b[1m[ \u001b[22m\u001b[39m\u001b[36m\u001b[1mInfo: \u001b[22m\u001b[39mPlotting frame 131 of 187...\n",
      "\u001b[36m\u001b[1m[ \u001b[22m\u001b[39m\u001b[36m\u001b[1mInfo: \u001b[22m\u001b[39mPlotting frame 132 of 187...\n",
      "\u001b[36m\u001b[1m[ \u001b[22m\u001b[39m\u001b[36m\u001b[1mInfo: \u001b[22m\u001b[39mPlotting frame 133 of 187...\n",
      "\u001b[36m\u001b[1m[ \u001b[22m\u001b[39m\u001b[36m\u001b[1mInfo: \u001b[22m\u001b[39mPlotting frame 134 of 187...\n",
      "\u001b[36m\u001b[1m[ \u001b[22m\u001b[39m\u001b[36m\u001b[1mInfo: \u001b[22m\u001b[39mPlotting frame 135 of 187...\n",
      "\u001b[36m\u001b[1m[ \u001b[22m\u001b[39m\u001b[36m\u001b[1mInfo: \u001b[22m\u001b[39mPlotting frame 136 of 187...\n",
      "\u001b[36m\u001b[1m[ \u001b[22m\u001b[39m\u001b[36m\u001b[1mInfo: \u001b[22m\u001b[39mPlotting frame 137 of 187...\n",
      "\u001b[36m\u001b[1m[ \u001b[22m\u001b[39m\u001b[36m\u001b[1mInfo: \u001b[22m\u001b[39mPlotting frame 138 of 187...\n",
      "\u001b[36m\u001b[1m[ \u001b[22m\u001b[39m\u001b[36m\u001b[1mInfo: \u001b[22m\u001b[39mPlotting frame 139 of 187...\n",
      "\u001b[36m\u001b[1m[ \u001b[22m\u001b[39m\u001b[36m\u001b[1mInfo: \u001b[22m\u001b[39mPlotting frame 140 of 187...\n",
      "\u001b[36m\u001b[1m[ \u001b[22m\u001b[39m\u001b[36m\u001b[1mInfo: \u001b[22m\u001b[39mPlotting frame 141 of 187...\n",
      "\u001b[36m\u001b[1m[ \u001b[22m\u001b[39m\u001b[36m\u001b[1mInfo: \u001b[22m\u001b[39mPlotting frame 142 of 187...\n",
      "\u001b[36m\u001b[1m[ \u001b[22m\u001b[39m\u001b[36m\u001b[1mInfo: \u001b[22m\u001b[39mPlotting frame 143 of 187...\n",
      "\u001b[36m\u001b[1m[ \u001b[22m\u001b[39m\u001b[36m\u001b[1mInfo: \u001b[22m\u001b[39mPlotting frame 144 of 187...\n",
      "\u001b[36m\u001b[1m[ \u001b[22m\u001b[39m\u001b[36m\u001b[1mInfo: \u001b[22m\u001b[39mPlotting frame 145 of 187...\n",
      "\u001b[36m\u001b[1m[ \u001b[22m\u001b[39m\u001b[36m\u001b[1mInfo: \u001b[22m\u001b[39mPlotting frame 146 of 187...\n",
      "\u001b[36m\u001b[1m[ \u001b[22m\u001b[39m\u001b[36m\u001b[1mInfo: \u001b[22m\u001b[39mPlotting frame 147 of 187...\n",
      "\u001b[36m\u001b[1m[ \u001b[22m\u001b[39m\u001b[36m\u001b[1mInfo: \u001b[22m\u001b[39mPlotting frame 148 of 187...\n",
      "\u001b[36m\u001b[1m[ \u001b[22m\u001b[39m\u001b[36m\u001b[1mInfo: \u001b[22m\u001b[39mPlotting frame 149 of 187...\n",
      "\u001b[36m\u001b[1m[ \u001b[22m\u001b[39m\u001b[36m\u001b[1mInfo: \u001b[22m\u001b[39mPlotting frame 150 of 187...\n",
      "\u001b[36m\u001b[1m[ \u001b[22m\u001b[39m\u001b[36m\u001b[1mInfo: \u001b[22m\u001b[39mPlotting frame 151 of 187...\n",
      "\u001b[36m\u001b[1m[ \u001b[22m\u001b[39m\u001b[36m\u001b[1mInfo: \u001b[22m\u001b[39mPlotting frame 152 of 187...\n",
      "\u001b[36m\u001b[1m[ \u001b[22m\u001b[39m\u001b[36m\u001b[1mInfo: \u001b[22m\u001b[39mPlotting frame 153 of 187...\n",
      "\u001b[36m\u001b[1m[ \u001b[22m\u001b[39m\u001b[36m\u001b[1mInfo: \u001b[22m\u001b[39mPlotting frame 154 of 187...\n",
      "\u001b[36m\u001b[1m[ \u001b[22m\u001b[39m\u001b[36m\u001b[1mInfo: \u001b[22m\u001b[39mPlotting frame 155 of 187...\n",
      "\u001b[36m\u001b[1m[ \u001b[22m\u001b[39m\u001b[36m\u001b[1mInfo: \u001b[22m\u001b[39mPlotting frame 156 of 187...\n",
      "\u001b[36m\u001b[1m[ \u001b[22m\u001b[39m\u001b[36m\u001b[1mInfo: \u001b[22m\u001b[39mPlotting frame 157 of 187...\n",
      "\u001b[36m\u001b[1m[ \u001b[22m\u001b[39m\u001b[36m\u001b[1mInfo: \u001b[22m\u001b[39mPlotting frame 158 of 187...\n",
      "\u001b[36m\u001b[1m[ \u001b[22m\u001b[39m\u001b[36m\u001b[1mInfo: \u001b[22m\u001b[39mPlotting frame 159 of 187...\n",
      "\u001b[36m\u001b[1m[ \u001b[22m\u001b[39m\u001b[36m\u001b[1mInfo: \u001b[22m\u001b[39mPlotting frame 160 of 187...\n",
      "\u001b[36m\u001b[1m[ \u001b[22m\u001b[39m\u001b[36m\u001b[1mInfo: \u001b[22m\u001b[39mPlotting frame 161 of 187...\n",
      "\u001b[36m\u001b[1m[ \u001b[22m\u001b[39m\u001b[36m\u001b[1mInfo: \u001b[22m\u001b[39mPlotting frame 162 of 187...\n",
      "\u001b[36m\u001b[1m[ \u001b[22m\u001b[39m\u001b[36m\u001b[1mInfo: \u001b[22m\u001b[39mPlotting frame 163 of 187...\n",
      "\u001b[36m\u001b[1m[ \u001b[22m\u001b[39m\u001b[36m\u001b[1mInfo: \u001b[22m\u001b[39mPlotting frame 164 of 187...\n",
      "\u001b[36m\u001b[1m[ \u001b[22m\u001b[39m\u001b[36m\u001b[1mInfo: \u001b[22m\u001b[39mPlotting frame 165 of 187...\n",
      "\u001b[36m\u001b[1m[ \u001b[22m\u001b[39m\u001b[36m\u001b[1mInfo: \u001b[22m\u001b[39mPlotting frame 166 of 187...\n",
      "\u001b[36m\u001b[1m[ \u001b[22m\u001b[39m\u001b[36m\u001b[1mInfo: \u001b[22m\u001b[39mPlotting frame 167 of 187...\n",
      "\u001b[36m\u001b[1m[ \u001b[22m\u001b[39m\u001b[36m\u001b[1mInfo: \u001b[22m\u001b[39mPlotting frame 168 of 187...\n",
      "\u001b[36m\u001b[1m[ \u001b[22m\u001b[39m\u001b[36m\u001b[1mInfo: \u001b[22m\u001b[39mPlotting frame 169 of 187...\n",
      "\u001b[36m\u001b[1m[ \u001b[22m\u001b[39m\u001b[36m\u001b[1mInfo: \u001b[22m\u001b[39mPlotting frame 170 of 187...\n",
      "\u001b[36m\u001b[1m[ \u001b[22m\u001b[39m\u001b[36m\u001b[1mInfo: \u001b[22m\u001b[39mPlotting frame 171 of 187...\n",
      "\u001b[36m\u001b[1m[ \u001b[22m\u001b[39m\u001b[36m\u001b[1mInfo: \u001b[22m\u001b[39mPlotting frame 172 of 187...\n",
      "\u001b[36m\u001b[1m[ \u001b[22m\u001b[39m\u001b[36m\u001b[1mInfo: \u001b[22m\u001b[39mPlotting frame 173 of 187...\n",
      "\u001b[36m\u001b[1m[ \u001b[22m\u001b[39m\u001b[36m\u001b[1mInfo: \u001b[22m\u001b[39mPlotting frame 174 of 187...\n",
      "\u001b[36m\u001b[1m[ \u001b[22m\u001b[39m\u001b[36m\u001b[1mInfo: \u001b[22m\u001b[39mPlotting frame 175 of 187...\n",
      "\u001b[36m\u001b[1m[ \u001b[22m\u001b[39m\u001b[36m\u001b[1mInfo: \u001b[22m\u001b[39mPlotting frame 176 of 187...\n",
      "\u001b[36m\u001b[1m[ \u001b[22m\u001b[39m\u001b[36m\u001b[1mInfo: \u001b[22m\u001b[39mPlotting frame 177 of 187...\n",
      "\u001b[36m\u001b[1m[ \u001b[22m\u001b[39m\u001b[36m\u001b[1mInfo: \u001b[22m\u001b[39mPlotting frame 178 of 187...\n",
      "\u001b[36m\u001b[1m[ \u001b[22m\u001b[39m\u001b[36m\u001b[1mInfo: \u001b[22m\u001b[39mPlotting frame 179 of 187...\n",
      "\u001b[36m\u001b[1m[ \u001b[22m\u001b[39m\u001b[36m\u001b[1mInfo: \u001b[22m\u001b[39mPlotting frame 180 of 187...\n",
      "\u001b[36m\u001b[1m[ \u001b[22m\u001b[39m\u001b[36m\u001b[1mInfo: \u001b[22m\u001b[39mPlotting frame 181 of 187...\n",
      "\u001b[36m\u001b[1m[ \u001b[22m\u001b[39m\u001b[36m\u001b[1mInfo: \u001b[22m\u001b[39mPlotting frame 182 of 187...\n",
      "\u001b[36m\u001b[1m[ \u001b[22m\u001b[39m\u001b[36m\u001b[1mInfo: \u001b[22m\u001b[39mPlotting frame 183 of 187...\n",
      "\u001b[36m\u001b[1m[ \u001b[22m\u001b[39m\u001b[36m\u001b[1mInfo: \u001b[22m\u001b[39mPlotting frame 184 of 187...\n",
      "\u001b[36m\u001b[1m[ \u001b[22m\u001b[39m\u001b[36m\u001b[1mInfo: \u001b[22m\u001b[39mPlotting frame 185 of 187...\n",
      "\u001b[36m\u001b[1m[ \u001b[22m\u001b[39m\u001b[36m\u001b[1mInfo: \u001b[22m\u001b[39mPlotting frame 186 of 187...\n",
      "\u001b[36m\u001b[1m[ \u001b[22m\u001b[39m\u001b[36m\u001b[1mInfo: \u001b[22m\u001b[39mPlotting frame 187 of 187...\n"
     ]
    },
    {
     "data": {
      "text/plain": [
       "\"../movies/Lecture01_shear_instability_example.mp4\""
      ]
     },
     "execution_count": 10,
     "metadata": {},
     "output_type": "execute_result"
    }
   ],
   "source": [
    "@info \"Making a neat movie of stratified shear flow...\"\n",
    "\n",
    "filepath = simulation.output_writers[:buoyancy].filepath\n",
    "\n",
    "B_timeseries = FieldTimeSeries(filepath, \"B\")\n",
    "\n",
    "times = B_timeseries.times\n",
    "t_final = times[end]\n",
    "\n",
    "n = Observable(1)\n",
    "\n",
    "Bₙ = @lift interior(B_timeseries, :, 1, :, $n)\n",
    "\n",
    "fig = Figure(size=(800, 600))\n",
    "\n",
    "kwargs = (xlabel=\"x [m]\", ylabel=\"z [m]\", limits = ((xb[1], xb[end]), (-3, 3)), aspect=1,)\n",
    "\n",
    "title = @lift @sprintf(\"temperature [°C] at t = %.2f\", times[$n])\n",
    "\n",
    "ax_B = Axis(fig[1, 1]; title = title, kwargs...)\n",
    "\n",
    "B_lims = (-maximum(abs, interior(B_timeseries, :, 1, :, :)), maximum(abs, interior(B_timeseries, :, 1, :, :)))\n",
    "\n",
    "hm_B = heatmap!(ax_B, xb, zb, Bₙ; colorrange = B_lims, colormap = :balance)\n",
    "Colorbar(fig[1, 2], hm_B)\n",
    "\n",
    "frames = 1:length(times)\n",
    "\n",
    "record(fig, \"../movies/Lecture01_shear_instability_example.mp4\", frames, framerate=8) do i\n",
    "    @info \"Plotting frame $i of $(frames[end])...\"\n",
    "    n[] = i\n",
    "end"
   ]
  },
  {
   "cell_type": "code",
   "execution_count": 11,
   "id": "30d73389-75b0-4199-a210-b02e860e255c",
   "metadata": {},
   "outputs": [],
   "source": [
    "fig = Figure(size=(900, 600))\n",
    "kwargs = (xlabel=\"x [m]\", ylabel=\"z [m]\", limits = ((xb[1], xb[end]), (zb[1], zb[end])), aspect=1,)\n",
    "ax_B = Axis(fig[1, 1]; title = \"temperature [°C] at t=0 minutes\", kwargs...)\n",
    "hm_B = heatmap!(ax_B, xb, zb, interior(B_timeseries, :, 1, :, 1); colorrange = B_lims, colormap = :balance)\n",
    "\n",
    "ax_B = Axis(fig[1, 2]; title = \"temperature [°C] at t=90 minutes\", kwargs...)\n",
    "hm_B = heatmap!(ax_B, xb, zb, interior(B_timeseries, :, 1, :, 90); colorrange = B_lims, colormap = :balance)\n",
    "lines!(ax_B, [0, 0], [-5, 5], linestyle=:dash, color=:black)\n",
    "\n",
    "ax_B = Axis(fig[1, 3]; title = \"temperature [°C] at t=180 minutes\", kwargs...)\n",
    "hm_B = heatmap!(ax_B, xb, zb, interior(B_timeseries, :, 1, :, 180); colorrange = B_lims, colormap = :balance)\n",
    "\n",
    "ax_B = Axis(fig[2, 2]; title = \"temperature at t=90 minutes\", xlabel=\"temperature [ºC]\", ylabel=\"z [m]\", limits=(0.75.*B_lims, (zb[1], zb[end])))\n",
    "l_B = lines!(ax_B, interior(B_timeseries, 64, 1, :, 90), zb, label=\"x=0 m\")\n",
    "\n",
    "Colorbar(fig[1, 4], hm_B)\n",
    "leg = axislegend(ax_B, position=:lt)\n",
    "save(\"../figures/Lecture01_shear_instability_snapshots.png\", fig)\n",
    "#fig\n",
    "\n",
    "l_B = lines!(ax_B, mean(interior(B_timeseries, :, 1, :, 90), dims=(1))[1,:], zb, label=\"zonal average\")\n",
    "delete!(leg)\n",
    "axislegend(ax_B, position=:lt)\n",
    "save(\"../figures/Lecture01_shear_instability_snapshots_mean.png\", fig)\n",
    "#fig"
   ]
  },
  {
   "cell_type": "code",
   "execution_count": null,
   "id": "03a00f22-c92b-4bf5-878d-4f6366ccc7ee",
   "metadata": {},
   "outputs": [],
   "source": []
  }
 ],
 "metadata": {
  "kernelspec": {
   "display_name": "Julia 1.10.9",
   "language": "julia",
   "name": "julia-1.10"
  },
  "language_info": {
   "file_extension": ".jl",
   "mimetype": "application/julia",
   "name": "julia",
   "version": "1.10.9"
  }
 },
 "nbformat": 4,
 "nbformat_minor": 5
}
