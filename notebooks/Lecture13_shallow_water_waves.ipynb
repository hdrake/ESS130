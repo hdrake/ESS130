{
 "cells": [
  {
   "cell_type": "code",
   "execution_count": 1,
   "id": "05265ea8-215c-4e3c-9092-6013c78a0853",
   "metadata": {},
   "outputs": [],
   "source": [
    "using Oceananigans\n",
    "using Oceananigans.Models: ShallowWaterModel\n",
    "using NCDatasets, Printf, CairoMakie"
   ]
  },
  {
   "cell_type": "code",
   "execution_count": 2,
   "id": "00fdb936-b213-4347-8134-00033d1efa16",
   "metadata": {},
   "outputs": [
    {
     "data": {
      "text/plain": [
       "mode (generic function with 1 method)"
      ]
     },
     "execution_count": 2,
     "metadata": {},
     "output_type": "execute_result"
    }
   ],
   "source": [
    "using FFTW\n",
    "function mode(y,n)\n",
    "    N = length(y)\n",
    "    ŷ = fft(y)\n",
    "    ŷ[(1:N .≠ n+1) .& (1:N .≠ N+1-n)] .= 0.0 + 0.0im\n",
    "    return real.(ifft(ŷ))\n",
    "end"
   ]
  },
  {
   "cell_type": "markdown",
   "id": "6b3de8e7-24cb-4ada-bb12-c6476ae174db",
   "metadata": {},
   "source": [
    "### Propagation of shallow water wave from initial disturbance"
   ]
  },
  {
   "cell_type": "code",
   "execution_count": 3,
   "id": "0d67994d-4fd8-492f-947c-79094be72c02",
   "metadata": {},
   "outputs": [
    {
     "name": "stderr",
     "output_type": "stream",
     "text": [
      "\u001b[33m\u001b[1m┌ \u001b[22m\u001b[39m\u001b[33m\u001b[1mWarning: \u001b[22m\u001b[39mThe ShallowWaterModel is currently unvalidated, subject to change, and should not be used for scientific research without adequate validation.\n",
      "\u001b[33m\u001b[1m└ \u001b[22m\u001b[39m\u001b[90m@ Oceananigans.Models.ShallowWaterModels ~/.julia/packages/Oceananigans/Rb6LJ/src/Models/ShallowWaterModels/shallow_water_model.jl:129\u001b[39m\n",
      "\u001b[33m\u001b[1m┌ \u001b[22m\u001b[39m\u001b[33m\u001b[1mWarning: \u001b[22m\u001b[39mOverwriting existing /Users/henrifdrake/code/ESS130/notebooks/shallow_water_1d.nc.\n",
      "\u001b[33m\u001b[1m└ \u001b[22m\u001b[39m\u001b[90m@ OceananigansNCDatasetsExt ~/.julia/packages/Oceananigans/Rb6LJ/ext/OceananigansNCDatasetsExt.jl:1023\u001b[39m\n",
      "\u001b[36m\u001b[1m[ \u001b[22m\u001b[39m\u001b[36m\u001b[1mInfo: \u001b[22m\u001b[39mInitializing simulation...\n",
      "\u001b[36m\u001b[1m[ \u001b[22m\u001b[39m\u001b[36m\u001b[1mInfo: \u001b[22m\u001b[39m    ... simulation initialization complete (2.186 seconds)\n",
      "\u001b[36m\u001b[1m[ \u001b[22m\u001b[39m\u001b[36m\u001b[1mInfo: \u001b[22m\u001b[39mExecuting initial time step...\n",
      "\u001b[36m\u001b[1m[ \u001b[22m\u001b[39m\u001b[36m\u001b[1mInfo: \u001b[22m\u001b[39m    ... initial time step complete (1.909 seconds).\n",
      "\u001b[36m\u001b[1m[ \u001b[22m\u001b[39m\u001b[36m\u001b[1mInfo: \u001b[22m\u001b[39mSimulation is stopping after running for 0 seconds.\n",
      "\u001b[36m\u001b[1m[ \u001b[22m\u001b[39m\u001b[36m\u001b[1mInfo: \u001b[22m\u001b[39mSimulation time 6 hours equals or exceeds stop time 6 hours.\n"
     ]
    }
   ],
   "source": [
    "Lx = 20e5\n",
    "grid = RectilinearGrid(size = (512),\n",
    "                       x = (-Lx/2, Lx/2),\n",
    "                       topology = (Periodic, Flat, Flat))\n",
    "\n",
    "gravitational_acceleration = 9.81\n",
    "coriolis = FPlane(f=0)\n",
    "\n",
    "model = ShallowWaterModel(; grid, coriolis, gravitational_acceleration,\n",
    "                          timestepper = :RungeKutta3,\n",
    "                          momentum_advection = WENO())\n",
    "\n",
    "η₀ = 1. #m\n",
    "x₀ = 0  #m\n",
    "σ = 50e4\n",
    "H = 4e3\n",
    "hᵢ(x) = H + η₀*(x>x₀-σ/2)*(x<x₀+σ/2)*exp(-1/(1-(x/(σ/2))^2))/0.37\n",
    "set!(model, h = hᵢ)\n",
    "\n",
    "\n",
    "simulation = Simulation(model, Δt = 1, stop_time = 6*3600);\n",
    "\n",
    "uh, vh, h = model.solution\n",
    "\n",
    "fields_filename = joinpath(@__DIR__, \"../data/shallow_water_1d.nc\")\n",
    "simulation.output_writers[:fields] = NetCDFWriter(model, (; uh, vh, h),\n",
    "                                                        filename = fields_filename,\n",
    "                                                        schedule = TimeInterval(60),\n",
    "                                                        overwrite_existing = true)\n",
    "\n",
    "\n",
    "run!(simulation)"
   ]
  },
  {
   "cell_type": "code",
   "execution_count": 4,
   "id": "6af1552a-ef63-4916-bb27-42a5309082f6",
   "metadata": {},
   "outputs": [
    {
     "data": {
      "text/plain": [
       "closed Dataset"
      ]
     },
     "execution_count": 4,
     "metadata": {},
     "output_type": "execute_result"
    }
   ],
   "source": [
    "fig = Figure(size = (850, 300))\n",
    "\n",
    "axis_kwargs = (xlabel = L\"$x$\", ylabel = L\"$\\eta$\", limits=((-Lx/2, Lx/2),(-0.1, η₀+0.1)))\n",
    "ax_h  = Axis(fig[2, 1]; axis_kwargs...)\n",
    "\n",
    "n = Observable(1)\n",
    "\n",
    "ds = NCDataset(simulation.output_writers[:fields].filepath, \"r\")\n",
    "\n",
    "x = ds[\"x_caa\"];\n",
    "times = ds[\"time\"][:]\n",
    "\n",
    "η = @lift ds[\"h\"][:, $n] .- H\n",
    "hm_h = lines!(ax_h, x, η, linewidth=5, color=:black)\n",
    "\n",
    "title = @lift @sprintf(\"t = %.1f\", times[$n])\n",
    "fig[1, 1] = Label(fig, title, fontsize=16, tellwidth=false)\n",
    "resize_to_layout!(fig)\n",
    "\n",
    "frames = 1:length(times)\n",
    "\n",
    "record(fig, \"../movies/Lecture14_shallow_water_waves_1d.mp4\", frames, framerate=12) do i\n",
    "    n[] = i\n",
    "end\n",
    "\n",
    "η = ds[\"h\"][:,1] .- H\n",
    "N = length(η)\n",
    "for n in append!(collect(0:10), [N÷2-1])\n",
    "\n",
    "    fig = Figure(size = (850, 300))\n",
    "    axis_kwargs = (xlabel = L\"$x$\", ylabel = L\"$η(x,t)$\", limits=((-Lx/2, Lx/2),(-0.1, η₀+0.1)))\n",
    "    ax  = Axis(fig[1, 1]; axis_kwargs...)\n",
    "    \n",
    "    lines!(ax, ds[\"x_caa\"], η, linewidth=10, color=:black, alpha=0.5)\n",
    "\n",
    "    if n==0\n",
    "        save(\"../figures/Lecture14_SW_full.png\", fig)\n",
    "    end\n",
    "    \n",
    "    η_accum = zeros(size(η))\n",
    "    for i in 0:n-1\n",
    "        η_accum .+= mode(η,i)\n",
    "        lines!(ax, ds[\"x_caa\"], η_accum, linewidth=2, alpha=0.3)\n",
    "    end\n",
    "    η_accum .+= mode(η,n)\n",
    "    lines!(ax, ds[\"x_caa\"], η_accum, linewidth=2, alpha=1.)\n",
    "    resize_to_layout!(fig)\n",
    "    save(string(\"../figures/Lecture14_SW_\",n,\".png\"), fig)\n",
    "end\n",
    "fig\n",
    "\n",
    "close(ds)"
   ]
  },
  {
   "cell_type": "markdown",
   "id": "210e7512-788f-4a74-8840-e0ce85c33603",
   "metadata": {},
   "source": [
    "### Weird propogating shallow water wave"
   ]
  },
  {
   "cell_type": "code",
   "execution_count": 5,
   "id": "cfe807ae-0bf9-43ca-bbf2-93abc3b7ae8c",
   "metadata": {},
   "outputs": [
    {
     "name": "stderr",
     "output_type": "stream",
     "text": [
      "\u001b[33m\u001b[1m┌ \u001b[22m\u001b[39m\u001b[33m\u001b[1mWarning: \u001b[22m\u001b[39mThe ShallowWaterModel is currently unvalidated, subject to change, and should not be used for scientific research without adequate validation.\n",
      "\u001b[33m\u001b[1m└ \u001b[22m\u001b[39m\u001b[90m@ Oceananigans.Models.ShallowWaterModels ~/.julia/packages/Oceananigans/Rb6LJ/src/Models/ShallowWaterModels/shallow_water_model.jl:129\u001b[39m\n",
      "\u001b[33m\u001b[1m┌ \u001b[22m\u001b[39m\u001b[33m\u001b[1mWarning: \u001b[22m\u001b[39mOverwriting existing /Users/henrifdrake/code/ESS130/notebooks/shallow_water_weird_1d.nc.\n",
      "\u001b[33m\u001b[1m└ \u001b[22m\u001b[39m\u001b[90m@ OceananigansNCDatasetsExt ~/.julia/packages/Oceananigans/Rb6LJ/ext/OceananigansNCDatasetsExt.jl:1023\u001b[39m\n",
      "\u001b[36m\u001b[1m[ \u001b[22m\u001b[39m\u001b[36m\u001b[1mInfo: \u001b[22m\u001b[39mInitializing simulation...\n",
      "\u001b[36m\u001b[1m[ \u001b[22m\u001b[39m\u001b[36m\u001b[1mInfo: \u001b[22m\u001b[39m    ... simulation initialization complete (944.635 ms)\n",
      "\u001b[36m\u001b[1m[ \u001b[22m\u001b[39m\u001b[36m\u001b[1mInfo: \u001b[22m\u001b[39mExecuting initial time step...\n",
      "\u001b[36m\u001b[1m[ \u001b[22m\u001b[39m\u001b[36m\u001b[1mInfo: \u001b[22m\u001b[39m    ... initial time step complete (809.040 ms).\n",
      "\u001b[36m\u001b[1m[ \u001b[22m\u001b[39m\u001b[36m\u001b[1mInfo: \u001b[22m\u001b[39mSimulation is stopping after running for 0 seconds.\n",
      "\u001b[36m\u001b[1m[ \u001b[22m\u001b[39m\u001b[36m\u001b[1mInfo: \u001b[22m\u001b[39mSimulation time 6 hours equals or exceeds stop time 6 hours.\n"
     ]
    }
   ],
   "source": [
    "model = ShallowWaterModel(; grid, coriolis, gravitational_acceleration,\n",
    "                          timestepper = :RungeKutta3,\n",
    "                          momentum_advection = WENO())\n",
    "\n",
    "η₀ = 1\n",
    "x₀ = 0\n",
    "σ = 10e4\n",
    "x₁ = 6e4\n",
    "η₁ = 0.5\n",
    "η₂ = 0.25\n",
    "σ₂ = 25e4\n",
    "x₂ = -15e4\n",
    "hᵢ(x) = H + (\n",
    "    η₀*(x>x₀-σ/2)*(x<x₀+σ/2)*exp(-1/(1-(x/(σ/2))^2))/0.37 +\n",
    "    η₁*(x>x₁-σ/2)*(x<x₁+σ/2)*exp(-1/(1-((x-x₁)/(σ/2))^2))/0.37 +\n",
    "    η₂*(x>x₂-σ₂/2)*(x<x₂+σ₂/2)*exp(-1/(1-((x-x₂)/(σ₂/2))^2))/0.37\n",
    ")\n",
    "set!(model, h = hᵢ)\n",
    "\n",
    "simulation = Simulation(model, Δt = 0.25, stop_time = 6*3600);\n",
    "\n",
    "uh, vh, h = model.solution\n",
    "\n",
    "fields_filename = joinpath(@__DIR__, \"../data/shallow_water_weird_1d.nc\")\n",
    "simulation.output_writers[:fields] = NetCDFWriter(model, (; uh, vh, h),\n",
    "                                                        filename = fields_filename,\n",
    "                                                        schedule = TimeInterval(60),\n",
    "                                                        overwrite_existing = true)\n",
    "\n",
    "run!(simulation)"
   ]
  },
  {
   "cell_type": "code",
   "execution_count": 7,
   "id": "93727edf-f7cb-4677-b2d6-bcedcde75680",
   "metadata": {},
   "outputs": [
    {
     "data": {
      "text/plain": [
       "closed Dataset"
      ]
     },
     "execution_count": 7,
     "metadata": {},
     "output_type": "execute_result"
    }
   ],
   "source": [
    "fig = Figure(size = (800, 300))\n",
    "\n",
    "axis_kwargs = (xlabel = L\"$x$\", ylabel = L\"$\\eta$\", limits=((-Lx/2, Lx/2),(-0.1, η₀+0.1)))\n",
    "ax_h  = Axis(fig[2, 1]; axis_kwargs...)\n",
    "\n",
    "n = Observable(1)\n",
    "\n",
    "ds = NCDataset(simulation.output_writers[:fields].filepath, \"r\")\n",
    "\n",
    "x = ds[\"x_caa\"];\n",
    "times = ds[\"time\"][:]\n",
    "\n",
    "η = @lift ds[\"h\"][:, $n] .- H\n",
    "hm_h = lines!(ax_h, x, η)\n",
    "\n",
    "title = @lift @sprintf(\"t = %.1f\", times[$n])\n",
    "fig[1, 1] = Label(fig, title, fontsize=16, tellwidth=false)\n",
    "\n",
    "frames = 1:length(times)\n",
    "\n",
    "record(fig, \"../movies/Lecture14_shallow_water_waves_weird_1d.mp4\", frames, framerate=12) do i\n",
    "    n[] = i\n",
    "end\n",
    "\n",
    "close(ds)"
   ]
  },
  {
   "cell_type": "markdown",
   "id": "ba719419-698e-4807-b4be-0f932fbd0218",
   "metadata": {},
   "source": [
    "### Rotating"
   ]
  },
  {
   "cell_type": "code",
   "execution_count": 9,
   "id": "80959e4e-32ea-4236-93db-b4279b48ca99",
   "metadata": {},
   "outputs": [
    {
     "data": {
      "text/plain": [
       "5.570832395430244e-5"
      ]
     },
     "execution_count": 9,
     "metadata": {},
     "output_type": "execute_result"
    }
   ],
   "source": [
    "2π/(86400)*cos(2π/360 * 40)"
   ]
  },
  {
   "cell_type": "code",
   "execution_count": 11,
   "id": "db38c5b4-3494-48de-b738-20f8cce0bfcd",
   "metadata": {},
   "outputs": [
    {
     "name": "stderr",
     "output_type": "stream",
     "text": [
      "\u001b[33m\u001b[1m┌ \u001b[22m\u001b[39m\u001b[33m\u001b[1mWarning: \u001b[22m\u001b[39mThe ShallowWaterModel is currently unvalidated, subject to change, and should not be used for scientific research without adequate validation.\n",
      "\u001b[33m\u001b[1m└ \u001b[22m\u001b[39m\u001b[90m@ Oceananigans.Models.ShallowWaterModels ~/.julia/packages/Oceananigans/Rb6LJ/src/Models/ShallowWaterModels/shallow_water_model.jl:129\u001b[39m\n",
      "\u001b[36m\u001b[1m[ \u001b[22m\u001b[39m\u001b[36m\u001b[1mInfo: \u001b[22m\u001b[39mInitializing simulation...\n",
      "\u001b[36m\u001b[1m[ \u001b[22m\u001b[39m\u001b[36m\u001b[1mInfo: \u001b[22m\u001b[39m    ... simulation initialization complete (1.856 seconds)\n",
      "\u001b[36m\u001b[1m[ \u001b[22m\u001b[39m\u001b[36m\u001b[1mInfo: \u001b[22m\u001b[39mExecuting initial time step...\n",
      "\u001b[36m\u001b[1m[ \u001b[22m\u001b[39m\u001b[36m\u001b[1mInfo: \u001b[22m\u001b[39m    ... initial time step complete (2.196 seconds).\n",
      "\u001b[36m\u001b[1m[ \u001b[22m\u001b[39m\u001b[36m\u001b[1mInfo: \u001b[22m\u001b[39mSimulation is stopping after running for 0 seconds.\n",
      "\u001b[36m\u001b[1m[ \u001b[22m\u001b[39m\u001b[36m\u001b[1mInfo: \u001b[22m\u001b[39mSimulation time 6 hours equals or exceeds stop time 6 hours.\n"
     ]
    }
   ],
   "source": [
    "Lx = 2e6\n",
    "grid = RectilinearGrid(size = (256, 256),\n",
    "                       x = (-Lx/2, Lx/2),\n",
    "                       y = (-Lx/2, Lx/2),\n",
    "                       topology = (Periodic, Periodic, Flat))\n",
    "\n",
    "gravitational_acceleration = 9.81\n",
    "coriolis = FPlane(f=2π/(86400)*cos(2π/360 * 40))\n",
    "\n",
    "model = ShallowWaterModel(; grid, coriolis, gravitational_acceleration,\n",
    "                          timestepper = :RungeKutta3,\n",
    "                          momentum_advection = WENO())\n",
    "\n",
    "η₀ = 1. #m\n",
    "x₀,y₀ = 0,0  #m\n",
    "σ = 5e5\n",
    "H = 4e3\n",
    "hᵢ(x,y) = H + η₀*(\n",
    "    (x>x₀-σ/2)*(x<x₀+σ/2)*exp(-1/(1-(x/(σ/2))^2)) *\n",
    "    (y>y₀-σ/2)*(y<y₀+σ/2)*exp(-1/(1-(y/(σ/2))^2)) /\n",
    "    (0.37^2)\n",
    ")\n",
    "set!(model, h = hᵢ)\n",
    "\n",
    "simulation = Simulation(model, Δt = 1., stop_time = 6*3600);\n",
    "\n",
    "uh, vh, h = model.solution\n",
    "\n",
    "fields_filename = joinpath(@__DIR__, \"../data/shallow_water_2d_midlat.nc\")\n",
    "simulation.output_writers[:fields] = NetCDFWriter(model, (; uh, vh, h),\n",
    "                                                        filename = fields_filename,\n",
    "                                                        schedule = TimeInterval(60),\n",
    "                                                        overwrite_existing = true)\n",
    "\n",
    "\n",
    "run!(simulation)"
   ]
  },
  {
   "cell_type": "code",
   "execution_count": 16,
   "id": "be677eb4-bda5-45bb-af4a-d10e3143752d",
   "metadata": {},
   "outputs": [
    {
     "data": {
      "text/plain": [
       "closed Dataset"
      ]
     },
     "execution_count": 16,
     "metadata": {},
     "output_type": "execute_result"
    }
   ],
   "source": [
    "fig = Figure(size = (600, 600))\n",
    "\n",
    "axis_kwargs = (xlabel = \"x\", ylabel = \"y\", limits=((-Lx/2, Lx/2), (-Lx/2, Lx/2)))\n",
    "ax  = Axis(fig[2, 1]; title = L\"elevation $\\eta$\", axis_kwargs...)\n",
    "\n",
    "n = Observable(1)\n",
    "\n",
    "ds = NCDataset(simulation.output_writers[:fields].filepath, \"r\")\n",
    "\n",
    "x, y = ds[\"x_caa\"], ds[\"y_aca\"];\n",
    "times = ds[\"time\"][:]\n",
    "\n",
    "η = @lift ds[\"h\"][:, :, $n] .- H\n",
    "hm_h = heatmap!(ax_h, x, y, η, colorrange = (0, η₀), colormap = :tempo)\n",
    "Colorbar(fig[2, 2], hm_h)\n",
    "\n",
    "title = @lift @sprintf(\"t = %.1f\", times[$n])\n",
    "fig[1, 1:2] = Label(fig, title, fontsize=14, tellwidth=false)\n",
    "fig\n",
    "\n",
    "close(ds)"
   ]
  },
  {
   "cell_type": "code",
   "execution_count": null,
   "id": "e498ae06-e977-45e3-899b-d5f4849c8479",
   "metadata": {},
   "outputs": [],
   "source": [
    "ds = NCDataset(simulation.output_writers[:fields].filepath, \"r\")\n",
    "ds[\"h\"]"
   ]
  },
  {
   "cell_type": "code",
   "execution_count": null,
   "id": "88fd6af2-dd86-4fe3-9d6b-6a7142a3d833",
   "metadata": {},
   "outputs": [],
   "source": [
    "heatmap("
   ]
  },
  {
   "cell_type": "code",
   "execution_count": null,
   "id": "2b02e2af-fd48-4fcb-b9dc-b15bbe4048b6",
   "metadata": {},
   "outputs": [],
   "source": [
    "fig = Figure(size = (700, 600))\n",
    "\n",
    "axis_kwargs = (xlabel = \"x\", ylabel = \"y\",)\n",
    "ax  = Axis(fig[1, 1]; title = L\"elevation $\\eta$\", axis_kwargs...)\n",
    "hm = heatmap!(ax, ds[\"h\"][:,:,1,240], colorrange=(4000-0.2, 4000.2), colormap=:balance)\n",
    "Colorbar(fig[1,2], hm)\n",
    "fig"
   ]
  },
  {
   "cell_type": "code",
   "execution_count": null,
   "id": "2dec752a-63e4-4afb-8a8e-10f77362bdd6",
   "metadata": {},
   "outputs": [],
   "source": [
    "ds = NCDataset(simulation.output_writers[:fields].filepath, \"r\")\n",
    "heatmap(ds[\"uh\"][:,1,1,:])"
   ]
  },
  {
   "cell_type": "code",
   "execution_count": null,
   "id": "835935dd-4aad-4e06-ae6e-77cab416cec5",
   "metadata": {},
   "outputs": [],
   "source": [
    "grid = RectilinearGrid(size = (512, 512),\n",
    "                       x = (-π, π),\n",
    "                       y = (-π, π),\n",
    "                       topology = (Bounded, Bounded, Flat))"
   ]
  },
  {
   "cell_type": "code",
   "execution_count": null,
   "id": "89ab779d-7fdd-43bf-983a-530ac9b96912",
   "metadata": {},
   "outputs": [],
   "source": [
    "gravitational_acceleration = 9.81"
   ]
  },
  {
   "cell_type": "code",
   "execution_count": null,
   "id": "010fbea3-4c5a-4e2d-8a1b-56c6d250848f",
   "metadata": {},
   "outputs": [],
   "source": [
    "coriolis = FPlane(f=0)"
   ]
  },
  {
   "cell_type": "code",
   "execution_count": null,
   "id": "fdd555ed-586d-43d2-9719-f6ae8240da47",
   "metadata": {},
   "outputs": [],
   "source": [
    "model = ShallowWaterModel(; grid, coriolis, gravitational_acceleration,\n",
    "                          timestepper = :RungeKutta3,\n",
    "                          momentum_advection = WENO())"
   ]
  },
  {
   "cell_type": "code",
   "execution_count": null,
   "id": "b3845636-be24-4196-b674-0285343f0cba",
   "metadata": {},
   "outputs": [],
   "source": [
    "bump(x,y,h₀=0.1,x₀=0,y₀=0,σ=0.1) = h₀*exp(-(((x-x₀)/(2σ))^2 + ((y-y₀)/(2σ))^2)/2)\n",
    "hᵢ(x,y) = 1 + bump(x,y,0.1,-π/20,2) + bump(x,y,0.05,sqrt(5),π/4,0.05) + bump(x,y,0.75,1,0,0.05) + bump(x,y,0.1,-sqrt(2.),-0.5,0.15)\n",
    "set!(model, h = hᵢ)"
   ]
  },
  {
   "cell_type": "code",
   "execution_count": null,
   "id": "6eae7aa5-3676-462a-8dd3-78a32f0d1b55",
   "metadata": {},
   "outputs": [],
   "source": [
    "simulation = Simulation(model, Δt = 1e-4, stop_time = 3);"
   ]
  },
  {
   "cell_type": "code",
   "execution_count": null,
   "id": "259059ca-8d6f-41c0-b76c-344f144c95cd",
   "metadata": {},
   "outputs": [],
   "source": [
    "uh, vh, h = model.solution\n",
    "\n",
    "fields_filename = joinpath(@__DIR__, \"../data/shallow_water_test.nc\")\n",
    "simulation.output_writers[:fields] = NetCDFOutputWriter(model, (; uh, vh, h),\n",
    "                                                        filename = fields_filename,\n",
    "                                                        schedule = TimeInterval(0.01),\n",
    "                                                        overwrite_existing = true)"
   ]
  },
  {
   "cell_type": "code",
   "execution_count": null,
   "id": "7b92b6bc-b330-4130-aa50-d803123d7ea3",
   "metadata": {},
   "outputs": [],
   "source": [
    "run!(simulation)"
   ]
  },
  {
   "cell_type": "code",
   "execution_count": null,
   "id": "f402c1b9-c0e7-4c45-87a8-1766793edcd1",
   "metadata": {},
   "outputs": [],
   "source": [
    "fig = Figure(size = (600, 600))\n",
    "\n",
    "axis_kwargs = (xlabel = \"x\", ylabel = \"y\")\n",
    "ax_h  = Axis(fig[2, 1]; title = \"depth h\", axis_kwargs...)\n",
    "\n",
    "n = Observable(1)\n",
    "\n",
    "ds = NCDataset(simulation.output_writers[:fields].filepath, \"r\")\n",
    "\n",
    "x, y = ds[\"x_caa\"], ds[\"y_aca\"];\n",
    "times = ds[\"time\"][:]\n",
    "\n",
    "h = @lift ds[\"h\"][:, :, 1, $n]\n",
    "hm_h = heatmap!(ax_h, x, y, h, colorrange = (1, 1.05), colormap = :tempo)\n",
    "Colorbar(fig[2, 2], hm_h)\n",
    "\n",
    "title = @lift @sprintf(\"t = %.1f\", times[$n])\n",
    "fig[1, 1:2] = Label(fig, title, fontsize=20, tellwidth=false)\n",
    "fig"
   ]
  },
  {
   "cell_type": "code",
   "execution_count": null,
   "id": "41c786df-3adf-4482-92d6-99ad8041c4d3",
   "metadata": {},
   "outputs": [],
   "source": [
    "frames = 1:length(times)\n",
    "\n",
    "record(fig, \"shallow_water_waves.mp4\", frames, framerate=12) do i\n",
    "    n[] = i\n",
    "end"
   ]
  },
  {
   "cell_type": "code",
   "execution_count": null,
   "id": "04bdeee4-cb0a-456e-b192-ba7e3b7a93b2",
   "metadata": {},
   "outputs": [],
   "source": []
  }
 ],
 "metadata": {
  "kernelspec": {
   "display_name": "Julia 1.10.9",
   "language": "julia",
   "name": "julia-1.10"
  },
  "language_info": {
   "file_extension": ".jl",
   "mimetype": "application/julia",
   "name": "julia",
   "version": "1.10.9"
  }
 },
 "nbformat": 4,
 "nbformat_minor": 5
}
