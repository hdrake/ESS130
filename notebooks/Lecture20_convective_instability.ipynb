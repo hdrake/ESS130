{
 "cells": [
  {
   "cell_type": "code",
   "execution_count": 1,
   "id": "6e7884c3-8468-466d-bd8e-ed332c5e791d",
   "metadata": {},
   "outputs": [],
   "source": [
    "using Oceananigans\n",
    "using Printf\n",
    "using GLMakie\n",
    "\n",
    "using Random, Statistics"
   ]
  },
  {
   "cell_type": "code",
   "execution_count": 2,
   "id": "56f71685-ac0f-4853-8a95-e77c15578ab6",
   "metadata": {},
   "outputs": [
    {
     "data": {
      "text/plain": [
       "run_convective_instability (generic function with 1 method)"
      ]
     },
     "execution_count": 2,
     "metadata": {},
     "output_type": "execute_result"
    }
   ],
   "source": [
    "function run_convective_instability(Δb)\n",
    "    L = 10\n",
    "    H = L\n",
    "    grid = RectilinearGrid(size=(256, 256), x=(-L/2, L/2), z=(-H/2, H/2),\n",
    "                           topology=(Periodic, Flat, Bounded))\n",
    "    \n",
    "    b₀(x, z, t, p) = (p.Δb/2)*tanh(z / p.h)\n",
    "    \n",
    "    B = BackgroundField(b₀, parameters=(h=1/4,Δb=Δb));\n",
    "    \n",
    "    zF = znodes(grid, Face())\n",
    "    zC = znodes(grid, Center())\n",
    "    \n",
    "    h, Δb = B.parameters\n",
    "    \n",
    "    # The model\n",
    "    model = NonhydrostaticModel(timestepper = :RungeKutta3,\n",
    "                                  advection = UpwindBiased(order=5),\n",
    "                                       grid = grid,\n",
    "                                   coriolis = nothing,\n",
    "                          background_fields = (b=B,),\n",
    "                                    closure = ScalarDiffusivity(ν=0.5e-4, κ=0.5e-4),\n",
    "                                   buoyancy = BuoyancyTracer(),\n",
    "                                    tracers = :b)\n",
    "    \n",
    "    Δt = 0.005\n",
    "    simulation = Simulation(model, Δt=Δt, stop_iteration=8000, verbose=false)\n",
    "    \n",
    "    u, v, w = model.velocities\n",
    "    b = model.tracers.b\n",
    "    xb, yb, zb = nodes(b)\n",
    "    total_b = Field(b + model.background_fields.tracers.b)\n",
    "    \n",
    "    mean_perturbation_kinetic_energy = Field(Average(1/2 * (u^2 + w^2)))\n",
    "    \n",
    "    noise(x, z) = 1.e-3*randn()\n",
    "    set!(model, u=noise, w=noise, b=noise)\n",
    "    \n",
    "    \n",
    "    filename = Δb <= 0 ? \"unstable\" : \"stable\"\n",
    "    simulation.output_writers[:buoyancy] =\n",
    "        JLD2Writer(model, (b=b, B=total_b),\n",
    "                         schedule = TimeInterval(0.2),\n",
    "                         filename = string(\"../data/raw_simulation_output/rayleigh_taylor_instability/\",filename,\".jld2\"),\n",
    "                         overwrite_existing = true)\n",
    "    \n",
    "    @info \"*** Running a simulation of Rayleigh-Taylor instability...\"\n",
    "    run!(simulation)\n",
    "\n",
    "    @info string(\"Making a neat movie of convectively \",filename,\" flow...\")\n",
    "\n",
    "    filepath = simulation.output_writers[:buoyancy].filepath\n",
    "    \n",
    "    B_timeseries = FieldTimeSeries(filepath, \"B\")\n",
    "    \n",
    "    times = B_timeseries.times\n",
    "    t_final = times[end]\n",
    "    \n",
    "    n = Observable(1)\n",
    "    \n",
    "    Bₙ = @lift interior(B_timeseries, :, 1, :, $n)\n",
    "    \n",
    "    fig = Figure(size=(550, 550))\n",
    "    \n",
    "    kwargs = (xlabel=\"x [m]\", ylabel=\"z [m]\", limits = ((-L/2, L/2), (-H/2, H/2)), aspect=1,)\n",
    "    \n",
    "    title = @lift @sprintf(\"buoyancy [m/s²] at t = %.2f seconds\", times[$n])\n",
    "    \n",
    "    ax_B = Axis(fig[1, 1]; title = title, kwargs...)\n",
    "    \n",
    "    B_lims = (-1., 1.)\n",
    "    \n",
    "    hm_B = heatmap!(ax_B, xb, zb, Bₙ; colorrange = B_lims, colormap = :balance)\n",
    "    Colorbar(fig[1, 2], hm_B)\n",
    "    \n",
    "    frames = 1:length(times)\n",
    "    \n",
    "    record(fig, string(\"../movies/Lecture19_rayleigh_taylor_\",filename,\".mp4\"), frames, framerate=8) do i\n",
    "        n[] = i\n",
    "    end\n",
    "\n",
    "end"
   ]
  },
  {
   "cell_type": "code",
   "execution_count": 3,
   "id": "03929842-40ba-48ec-8463-50ca75c3f634",
   "metadata": {},
   "outputs": [
    {
     "name": "stderr",
     "output_type": "stream",
     "text": [
      "\u001b[36m\u001b[1m[ \u001b[22m\u001b[39m\u001b[36m\u001b[1mInfo: \u001b[22m\u001b[39m*** Running a simulation of Rayleigh-Taylor instability...\n",
      "\u001b[36m\u001b[1m[ \u001b[22m\u001b[39m\u001b[36m\u001b[1mInfo: \u001b[22m\u001b[39mMaking a neat movie of convectively stable flow...\n",
      "\u001b[36m\u001b[1m[ \u001b[22m\u001b[39m\u001b[36m\u001b[1mInfo: \u001b[22m\u001b[39m*** Running a simulation of Rayleigh-Taylor instability...\n",
      "\u001b[36m\u001b[1m[ \u001b[22m\u001b[39m\u001b[36m\u001b[1mInfo: \u001b[22m\u001b[39mMaking a neat movie of convectively unstable flow...\n"
     ]
    },
    {
     "data": {
      "text/plain": [
       "\"../movies/Lecture19_rayleigh_taylor_unstable.mp4\""
      ]
     },
     "execution_count": 3,
     "metadata": {},
     "output_type": "execute_result"
    }
   ],
   "source": [
    "run_convective_instability(2)\n",
    "run_convective_instability(-2)"
   ]
  },
  {
   "cell_type": "code",
   "execution_count": null,
   "id": "674ab1e9-9e7d-4eef-93a6-2b531b109268",
   "metadata": {},
   "outputs": [],
   "source": []
  }
 ],
 "metadata": {
  "kernelspec": {
   "display_name": "Julia 1.10.9",
   "language": "julia",
   "name": "julia-1.10"
  },
  "language_info": {
   "file_extension": ".jl",
   "mimetype": "application/julia",
   "name": "julia",
   "version": "1.10.9"
  }
 },
 "nbformat": 4,
 "nbformat_minor": 5
}
